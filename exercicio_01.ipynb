{
 "cells": [
  {
   "cell_type": "code",
   "execution_count": 5,
   "metadata": {},
   "outputs": [
    {
     "name": "stdout",
     "output_type": "stream",
     "text": [
      "['viagra', 'v1agra', 'vi@gra', 'V!@Gr@', 'Outra', 'Exemplo', 'VIAGRA', 'vvvv!!!agggggrra']\n",
      "['viagra', 'v1agra', 'vi@gra', 'V!@Gr@', 'VIAGRA', 'vvvv!!!agggggrra']\n"
     ]
    }
   ],
   "source": [
    "import re\n",
    "\n",
    "palavras = [\"viagra\", \"v1agra\", \"vi@gra\", \"V!@Gr@\",\n",
    "            \"Outra\", \"Exemplo\", \"VIAGRA\", \"vvvv!!!agggggrra\"]\n",
    "\n",
    "\n",
    "#\n",
    "padrao = r'\\b[vi1!]+[@a]+[gq]+[r@a]+\\b'\n",
    "\n",
    "\n",
    "match = []\n",
    "\n",
    "for palavra in palavras:\n",
    "    if re.findall(padrao, palavra, re.IGNORECASE):\n",
    "        match.append(palavra)\n",
    "\n",
    "\n",
    "print(palavras)\n",
    "print(match)\n",
    "\n",
    "\n",
    "\n",
    "\n"
   ]
  },
  {
   "cell_type": "code",
   "execution_count": 6,
   "metadata": {},
   "outputs": [
    {
     "name": "stdout",
     "output_type": "stream",
     "text": [
      "['jms.lopes@nca.ufma', 'jms.lopes@discente.ufma.br', 'jms.lopes@ufpi.edu.br', 'teste.lopes@nnca.uufma']\n",
      "['jms.lopes@nca.ufma', 'jms.lopes@ufpi.edu.br']\n"
     ]
    }
   ],
   "source": [
    "palavras = [\"jms.lopes@nca.ufma\", \"jms.lopes@discente.ufma.br\",\n",
    "            \"jms.lopes@ufpi.edu.br\", \"teste.lopes@nnca.uufma\"]\n",
    "\n",
    "\n",
    "\n",
    "padrao = r'\\b^[\\w._%+\\-]+@(nca\\.ufma|ufpi\\.edu\\.br)\\b'\n",
    "\n",
    "\n",
    "\n",
    "match = []\n",
    "\n",
    "for palavra in palavras:\n",
    "    if re.findall(padrao, palavra, re.IGNORECASE):\n",
    "        match.append(palavra)\n",
    "\n",
    "\n",
    "print(palavras)\n",
    "print(match)\n"
   ]
  },
  {
   "cell_type": "code",
   "execution_count": 7,
   "metadata": {},
   "outputs": [
    {
     "name": "stdout",
     "output_type": "stream",
     "text": [
      "['192.168.1.165', '192.168.2.165', '192.168.1.255', '192.168.1.256']\n",
      "['192.168.1.165', '192.168.1.255']\n"
     ]
    }
   ],
   "source": [
    "palavras = [\"192.168.1.165\", \"192.168.2.165\", \"192.168.1.255\", \"192.168.1.256\"]\n",
    "\n",
    "\n",
    "padrao = r'\\b192\\.168\\.1\\.(?:[0-9]|[1-9][0-9]|1[0-9][0-9]|2[0-4][0-9]|25[0-5])\\b'\n",
    "\n",
    "\n",
    "match = []\n",
    "\n",
    "for palavra in palavras:\n",
    "    if re.findall(padrao, palavra, re.IGNORECASE):\n",
    "        match.append(palavra)\n",
    "\n",
    "\n",
    "print(palavras)\n",
    "print(match)\n"
   ]
  },
  {
   "cell_type": "code",
   "execution_count": 8,
   "metadata": {},
   "outputs": [
    {
     "name": "stdout",
     "output_type": "stream",
     "text": [
      "['PO#11-3344', 'PO11-33444', 'PO-11-3344', 'PO# 11 3344', 'PO 113344', 'PO1234444453', 'PO#122']\n",
      "['PO#11-3344', 'PO11-33444', 'PO-11-3344', 'PO# 11 3344', 'PO 113344']\n"
     ]
    }
   ],
   "source": [
    "palavras = [\"PO#11-3344\" , \"PO11-33444\", \"PO-11-3344\", \"PO# 11 3344\", \"PO 113344\", \"PO1234444453\", \"PO#122\"]\n",
    "\n",
    "\n",
    "padrao = r'\\bPO\\d{2}-\\d{5}\\b|\\bPO-\\d{2}-\\d{4}\\b|\\bPO#\\s?\\d{2}\\s?\\d{4}\\b|\\bPO#\\d{2}-\\d{4}\\b|\\bPO\\s\\d{6}\\b'\n",
    "\n",
    "\n",
    "match = []\n",
    "\n",
    "for palavra in palavras:\n",
    "    if re.findall(padrao, palavra, re.IGNORECASE):\n",
    "        match.append(palavra)\n",
    "\n",
    "\n",
    "print(palavras)\n",
    "print(match)\n"
   ]
  }
 ],
 "metadata": {
  "kernelspec": {
   "display_name": "Python 3",
   "language": "python",
   "name": "python3"
  },
  "language_info": {
   "codemirror_mode": {
    "name": "ipython",
    "version": 3
   },
   "file_extension": ".py",
   "mimetype": "text/x-python",
   "name": "python",
   "nbconvert_exporter": "python",
   "pygments_lexer": "ipython3",
   "version": "3.10.4"
  },
  "orig_nbformat": 4
 },
 "nbformat": 4,
 "nbformat_minor": 2
}
