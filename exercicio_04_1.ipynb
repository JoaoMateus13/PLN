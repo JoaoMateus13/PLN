{
  "nbformat": 4,
  "nbformat_minor": 0,
  "metadata": {
    "colab": {
      "provenance": []
    },
    "kernelspec": {
      "name": "python3",
      "display_name": "Python 3"
    },
    "language_info": {
      "name": "python"
    }
  },
  "cells": [
    {
      "cell_type": "markdown",
      "source": [
        "1 - Para o trecho do poema \"Ainda que mal\"\n",
        "\"ainda que mal pergunte\n",
        "ainda que mal respondas\n",
        "ainda que mal te entenda\n",
        "ainda que mal repitas\"\n",
        "\n",
        "a) Ache todos os bigramas do trecho\n",
        "\n",
        "b) Calcule a probabilidade logarítmica de cada bigrama encontrado\n",
        "\n",
        "c) Faça a suavização com o método add-k com k=0, 1\n",
        "\n",
        "d) Com o modelo de linguagem generalizado, calcule a probabilidade comum do verso \"ainda que mal insista\"\n",
        "\n",
        "e) Calcule a perplexidade do modelo de linguagem generalizado utilizando o verso \"ainda que mal insista” como conjunto de teste.\n",
        "\n"
      ],
      "metadata": {
        "id": "9RaLqRgcnXa8"
      }
    },
    {
      "cell_type": "code",
      "source": [
        "import re\n",
        "import nltk\n",
        "from nltk import bigrams, trigrams\n",
        "from nltk.lm import MLE, Laplace, Lidstone\n",
        "from nltk.lm.preprocessing import pad_both_ends\n",
        "from nltk.lm.preprocessing import padded_everygram_pipeline\n",
        "from nltk.lm.preprocessing import flatten\n",
        "nltk.download('punkt')\n"
      ],
      "metadata": {
        "colab": {
          "base_uri": "https://localhost:8080/"
        },
        "id": "oTydHhK9nlVb",
        "outputId": "958700d8-897d-49f9-aa89-65b27f4f5d9f"
      },
      "execution_count": 2,
      "outputs": [
        {
          "output_type": "stream",
          "name": "stderr",
          "text": [
            "[nltk_data] Downloading package punkt to /root/nltk_data...\n",
            "[nltk_data]   Unzipping tokenizers/punkt.zip.\n"
          ]
        },
        {
          "output_type": "execute_result",
          "data": {
            "text/plain": [
              "True"
            ]
          },
          "metadata": {},
          "execution_count": 2
        }
      ]
    },
    {
      "cell_type": "code",
      "source": [
        "texto = \"\"\"ainda que mal pergunte\n",
        " ainda que mal respondas\n",
        " ainda que mal te entenda\n",
        " ainda que mal repitas\"\"\""
      ],
      "metadata": {
        "id": "WxLlm9FPnZ1J"
      },
      "execution_count": 3,
      "outputs": []
    },
    {
      "cell_type": "markdown",
      "source": [],
      "metadata": {
        "id": "pr_CZY55CTwC"
      }
    },
    {
      "cell_type": "code",
      "source": [
        "bigramas = list(bigrams(pad_both_ends(nltk.word_tokenize(texto), n=2)))\n",
        "\n",
        "\n",
        "for bigrama in bigramas:\n",
        "  print(bigrama)\n"
      ],
      "metadata": {
        "colab": {
          "base_uri": "https://localhost:8080/"
        },
        "id": "1VoA58gUnvgj",
        "outputId": "7f1ffedb-3c01-40d2-9e99-81991a9ae9a1"
      },
      "execution_count": 4,
      "outputs": [
        {
          "output_type": "stream",
          "name": "stdout",
          "text": [
            "('<s>', 'ainda')\n",
            "('ainda', 'que')\n",
            "('que', 'mal')\n",
            "('mal', 'pergunte')\n",
            "('pergunte', 'ainda')\n",
            "('ainda', 'que')\n",
            "('que', 'mal')\n",
            "('mal', 'respondas')\n",
            "('respondas', 'ainda')\n",
            "('ainda', 'que')\n",
            "('que', 'mal')\n",
            "('mal', 'te')\n",
            "('te', 'entenda')\n",
            "('entenda', 'ainda')\n",
            "('ainda', 'que')\n",
            "('que', 'mal')\n",
            "('mal', 'repitas')\n",
            "('repitas', '</s>')\n"
          ]
        }
      ]
    },
    {
      "cell_type": "code",
      "source": [
        "paddedLine = [list(pad_both_ends(nltk.word_tokenize(texto), n=2))]\n",
        "\n",
        "train, vocab = padded_everygram_pipeline(2, paddedLine)\n",
        "\n",
        "lm = Lidstone(0.1,2)\n",
        "\n",
        "lm.fit(train, vocabulary_text=vocab)\n",
        "\n",
        "bigramas_test = [list(bigrams(pad_both_ends(nltk.word_tokenize(\"ainda que mal insista\"), n=2)))]"
      ],
      "metadata": {
        "id": "gU9FJQr3ry4B"
      },
      "execution_count": 18,
      "outputs": []
    },
    {
      "cell_type": "code",
      "source": [
        "print(lm.logscore(bigramas_test))"
      ],
      "metadata": {
        "colab": {
          "base_uri": "https://localhost:8080/"
        },
        "id": "1WA8USRT45Pr",
        "outputId": "3ff6d316-5dbf-4eb6-8463-08f05689a2d3"
      },
      "execution_count": 20,
      "outputs": [
        {
          "output_type": "stream",
          "name": "stdout",
          "text": [
            "-7.787902559391433\n"
          ]
        }
      ]
    },
    {
      "cell_type": "code",
      "source": [
        "lm.perplexity([bigramas_test])"
      ],
      "metadata": {
        "colab": {
          "base_uri": "https://localhost:8080/"
        },
        "id": "-TZh8wJr7QWi",
        "outputId": "da019c6c-fb27-4830-9503-f4d7e56615a2"
      },
      "execution_count": 21,
      "outputs": [
        {
          "output_type": "execute_result",
          "data": {
            "text/plain": [
              "11.000000000000004"
            ]
          },
          "metadata": {},
          "execution_count": 21
        }
      ]
    }
  ]
}