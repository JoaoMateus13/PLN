{
  "cells": [
    {
      "cell_type": "markdown",
      "metadata": {
        "id": "9RaLqRgcnXa8"
      },
      "source": [
        "1 - Para o trecho do poema \"Ainda que mal\"\n",
        "\"ainda que mal pergunte\n",
        "ainda que mal respondas\n",
        "ainda que mal te entenda\n",
        "ainda que mal repitas\"\n",
        "\n",
        "a) Ache todos os bigramas do trecho\n",
        "\n",
        "b) Calcule a probabilidade logarítmica de cada bigrama encontrado\n",
        "\n",
        "c) Faça a suavização com o método add-k com k=0, 1\n",
        "\n",
        "d) Com o modelo de linguagem generalizado, calcule a probabilidade comum do verso \"ainda que mal insista\"\n",
        "\n",
        "e) Calcule a perplexidade do modelo de linguagem generalizado utilizando o verso \"ainda que mal insista” como conjunto de teste.\n",
        "\n"
      ]
    },
    {
      "cell_type": "code",
      "execution_count": 2,
      "metadata": {
        "colab": {
          "base_uri": "https://localhost:8080/"
        },
        "id": "oTydHhK9nlVb",
        "outputId": "958700d8-897d-49f9-aa89-65b27f4f5d9f"
      },
      "outputs": [
        {
          "name": "stderr",
          "output_type": "stream",
          "text": [
            "[nltk_data] Downloading package punkt to /root/nltk_data...\n",
            "[nltk_data]   Unzipping tokenizers/punkt.zip.\n"
          ]
        },
        {
          "data": {
            "text/plain": [
              "True"
            ]
          },
          "execution_count": 2,
          "metadata": {},
          "output_type": "execute_result"
        }
      ],
      "source": [
        "import nltk\n",
        "from nltk import bigrams, trigrams\n",
        "from nltk.lm import MLE, Laplace, Lidstone\n",
        "from nltk.lm.preprocessing import pad_both_ends\n",
        "from nltk.lm.preprocessing import padded_everygram_pipeline\n",
        "from nltk.lm.preprocessing import flatten\n",
        "nltk.download('punkt')\n"
      ]
    },
    {
      "cell_type": "code",
      "execution_count": 3,
      "metadata": {
        "id": "WxLlm9FPnZ1J"
      },
      "outputs": [],
      "source": [
        "texto = \"\"\"ainda que mal pergunte\n",
        " ainda que mal respondas\n",
        " ainda que mal te entenda\n",
        " ainda que mal repitas\"\"\""
      ]
    },
    {
      "cell_type": "markdown",
      "metadata": {
        "id": "pr_CZY55CTwC"
      },
      "source": []
    },
    {
      "cell_type": "code",
      "execution_count": 4,
      "metadata": {
        "colab": {
          "base_uri": "https://localhost:8080/"
        },
        "id": "1VoA58gUnvgj",
        "outputId": "7f1ffedb-3c01-40d2-9e99-81991a9ae9a1"
      },
      "outputs": [
        {
          "name": "stdout",
          "output_type": "stream",
          "text": [
            "('<s>', 'ainda')\n",
            "('ainda', 'que')\n",
            "('que', 'mal')\n",
            "('mal', 'pergunte')\n",
            "('pergunte', 'ainda')\n",
            "('ainda', 'que')\n",
            "('que', 'mal')\n",
            "('mal', 'respondas')\n",
            "('respondas', 'ainda')\n",
            "('ainda', 'que')\n",
            "('que', 'mal')\n",
            "('mal', 'te')\n",
            "('te', 'entenda')\n",
            "('entenda', 'ainda')\n",
            "('ainda', 'que')\n",
            "('que', 'mal')\n",
            "('mal', 'repitas')\n",
            "('repitas', '</s>')\n"
          ]
        }
      ],
      "source": [
        "bigramas = list(bigrams(pad_both_ends(nltk.word_tokenize(texto), n=2)))\n",
        "\n",
        "\n",
        "for bigrama in bigramas:\n",
        "  print(bigrama)\n"
      ]
    },
    {
      "cell_type": "code",
      "execution_count": 18,
      "metadata": {
        "id": "gU9FJQr3ry4B"
      },
      "outputs": [],
      "source": [
        "paddedLine = [list(pad_both_ends(nltk.word_tokenize(texto), n=2))]\n",
        "\n",
        "train, vocab = padded_everygram_pipeline(2, paddedLine)\n",
        "\n",
        "lm = Lidstone(0.1,2)\n",
        "\n",
        "lm.fit(train, vocabulary_text=vocab)\n",
        "\n",
        "bigramas_test = [list(bigrams(pad_both_ends(nltk.word_tokenize(\"ainda que mal insista\"), n=2)))]"
      ]
    },
    {
      "cell_type": "code",
      "execution_count": 20,
      "metadata": {
        "colab": {
          "base_uri": "https://localhost:8080/"
        },
        "id": "1WA8USRT45Pr",
        "outputId": "3ff6d316-5dbf-4eb6-8463-08f05689a2d3"
      },
      "outputs": [
        {
          "name": "stdout",
          "output_type": "stream",
          "text": [
            "-7.787902559391433\n"
          ]
        }
      ],
      "source": [
        "print(lm.logscore(bigramas_test))"
      ]
    },
    {
      "cell_type": "code",
      "execution_count": 21,
      "metadata": {
        "colab": {
          "base_uri": "https://localhost:8080/"
        },
        "id": "-TZh8wJr7QWi",
        "outputId": "da019c6c-fb27-4830-9503-f4d7e56615a2"
      },
      "outputs": [
        {
          "data": {
            "text/plain": [
              "11.000000000000004"
            ]
          },
          "execution_count": 21,
          "metadata": {},
          "output_type": "execute_result"
        }
      ],
      "source": [
        "lm.perplexity([bigramas_test])"
      ]
    }
  ],
  "metadata": {
    "colab": {
      "provenance": []
    },
    "kernelspec": {
      "display_name": "Python 3",
      "name": "python3"
    },
    "language_info": {
      "name": "python"
    }
  },
  "nbformat": 4,
  "nbformat_minor": 0
}
