{
  "nbformat": 4,
  "nbformat_minor": 0,
  "metadata": {
    "colab": {
      "provenance": [],
      "authorship_tag": "ABX9TyMilLV4m4Hjdedmeugpk/Q3",
      "include_colab_link": true
    },
    "kernelspec": {
      "name": "python3",
      "display_name": "Python 3"
    },
    "language_info": {
      "name": "python"
    }
  },
  "cells": [
    {
      "cell_type": "markdown",
      "metadata": {
        "id": "view-in-github",
        "colab_type": "text"
      },
      "source": [
        "<a href=\"https://colab.research.google.com/github/JoaoMateus13/PLN/blob/master/EstudoPLN_Exerc%C3%ADciios_04_1.ipynb\" target=\"_parent\"><img src=\"https://colab.research.google.com/assets/colab-badge.svg\" alt=\"Open In Colab\"/></a>"
      ]
    },
    {
      "cell_type": "markdown",
      "source": [
        "1 - Para o trecho do poema \"Ainda que mal\"\n",
        "\"ainda que mal pergunte\n",
        "ainda que mal respondas\n",
        "ainda que mal te entenda\n",
        "ainda que mal repitas\"\n",
        "\n",
        "a) Ache todos os bigramas do trecho\n",
        "\n",
        "b) Calcule a probabilidade logarítmica de cada bigrama encontrado\n",
        "\n",
        "c) Faça a suavização com o método add-k com k=0, 1\n",
        "\n",
        "d) Com o modelo de linguagem generalizado, calcule a probabilidade comum do verso \"ainda que mal insista\"\n",
        "\n",
        "e) Calcule a perplexidade do modelo de linguagem generalizado utilizando o verso \"ainda que mal insista” como conjunto de teste.\n",
        "\n"
      ],
      "metadata": {
        "id": "9RaLqRgcnXa8"
      }
    },
    {
      "cell_type": "code",
      "source": [
        "import re\n",
        "import nltk\n",
        "from nltk import bigrams, trigrams\n",
        "from nltk.lm import MLE, Laplace, Lidstone\n",
        "from nltk.lm.preprocessing import pad_both_ends\n",
        "from nltk.lm.preprocessing import padded_everygram_pipeline\n",
        "from nltk.lm.preprocessing import flatten\n",
        "nltk.download('punkt')\n"
      ],
      "metadata": {
        "colab": {
          "base_uri": "https://localhost:8080/"
        },
        "id": "oTydHhK9nlVb",
        "outputId": "73f67aed-3b0c-4668-9eb1-4728cc818ea8"
      },
      "execution_count": 147,
      "outputs": [
        {
          "output_type": "stream",
          "name": "stderr",
          "text": [
            "[nltk_data] Downloading package punkt to /root/nltk_data...\n",
            "[nltk_data]   Package punkt is already up-to-date!\n"
          ]
        },
        {
          "output_type": "execute_result",
          "data": {
            "text/plain": [
              "True"
            ]
          },
          "metadata": {},
          "execution_count": 147
        }
      ]
    },
    {
      "cell_type": "code",
      "source": [
        "texto = \"\"\"ainda que mal pergunte\n",
        " ainda que mal respondas\n",
        " ainda que mal te entenda\n",
        " ainda que mal repitas\"\"\"\n"
      ],
      "metadata": {
        "id": "WxLlm9FPnZ1J"
      },
      "execution_count": 148,
      "outputs": []
    },
    {
      "cell_type": "code",
      "source": [
        "bigramas = list(bigrams(pad_both_ends(nltk.word_tokenize(texto), n=2)))\n",
        "\n",
        "\n",
        "for bigrama in bigramas:\n",
        "  print(bigrama)\n"
      ],
      "metadata": {
        "colab": {
          "base_uri": "https://localhost:8080/"
        },
        "id": "1VoA58gUnvgj",
        "outputId": "675ffb84-9724-4439-f356-839a1d01d27c"
      },
      "execution_count": 149,
      "outputs": [
        {
          "output_type": "stream",
          "name": "stdout",
          "text": [
            "('<s>', 'ainda')\n",
            "('ainda', 'que')\n",
            "('que', 'mal')\n",
            "('mal', 'pergunte')\n",
            "('pergunte', 'ainda')\n",
            "('ainda', 'que')\n",
            "('que', 'mal')\n",
            "('mal', 'respondas')\n",
            "('respondas', 'ainda')\n",
            "('ainda', 'que')\n",
            "('que', 'mal')\n",
            "('mal', 'te')\n",
            "('te', 'entenda')\n",
            "('entenda', 'ainda')\n",
            "('ainda', 'que')\n",
            "('que', 'mal')\n",
            "('mal', 'repitas')\n",
            "('repitas', '</s>')\n"
          ]
        }
      ]
    },
    {
      "cell_type": "code",
      "source": [
        "paddedLine = [list(pad_both_ends(nltk.word_tokenize(texto), n=2))]\n",
        "\n",
        "train, vocab = padded_everygram_pipeline(2, paddedLine)\n",
        "\n",
        "lm = MLE(2)\n",
        "\n",
        "#lm = Laplace(1)\n",
        "lm = Lidstone(0.1,0.1)\n",
        "\n",
        "lm.fit(train, vocabulary_text=vocab)\n",
        "\n",
        "print(lm.score('mal', ['que']))\n",
        "print(lm.logscore('mal', ['que']))\n",
        "\n",
        "lm.score('</s>', ['insista'])"
      ],
      "metadata": {
        "colab": {
          "base_uri": "https://localhost:8080/"
        },
        "id": "gU9FJQr3ry4B",
        "outputId": "2df3dcf1-3ec8-496d-b445-f04641d83dc9"
      },
      "execution_count": 150,
      "outputs": [
        {
          "output_type": "stream",
          "name": "stdout",
          "text": [
            "0.803921568627451\n",
            "-0.3148733373534119\n"
          ]
        },
        {
          "output_type": "execute_result",
          "data": {
            "text/plain": [
              "0.09090909090909091"
            ]
          },
          "metadata": {},
          "execution_count": 150
        }
      ]
    },
    {
      "cell_type": "code",
      "source": [
        "print(lm.score('ainda', ['<s>']) +lm.score('que', ['ainda']) + lm.score('mal', ['que'])+ lm.score('insista', ['mal']) + lm.score('</s>', ['insista']))"
      ],
      "metadata": {
        "colab": {
          "base_uri": "https://localhost:8080/"
        },
        "id": "1WA8USRT45Pr",
        "outputId": "301ed848-0a5a-4f7e-a909-88df79ac2de1"
      },
      "execution_count": 151,
      "outputs": [
        {
          "output_type": "stream",
          "name": "stdout",
          "text": [
            "2.073198780978667\n"
          ]
        }
      ]
    },
    {
      "cell_type": "code",
      "source": [
        "bigramas_test = list(bigrams(pad_both_ends(nltk.word_tokenize(\"ainda que mal insista\"), n=2)))\n",
        "\n",
        "lm.perplexity([bigramas_test])"
      ],
      "metadata": {
        "colab": {
          "base_uri": "https://localhost:8080/"
        },
        "id": "-TZh8wJr7QWi",
        "outputId": "26c714d9-c1f7-4d33-ae60-6a4a958666d2"
      },
      "execution_count": 152,
      "outputs": [
        {
          "output_type": "execute_result",
          "data": {
            "text/plain": [
              "11.000000000000004"
            ]
          },
          "metadata": {},
          "execution_count": 152
        }
      ]
    }
  ]
}